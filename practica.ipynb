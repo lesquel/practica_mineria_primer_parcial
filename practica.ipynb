{
 "cells": [
  {
   "cell_type": "markdown",
   "id": "c06334fb",
   "metadata": {},
   "source": [
    "# Práctica de Minería de Datos: Evaluación de Calificaciones\n",
    "**Integrantes:** Nombre 1 · Nombre 2 (actualizar con los nombres completos)\n",
    "**Fecha:** 23 de octubre de 2025\n",
    "**Curso:** Minería de Datos - Proceso KDD con Clustering Jerárquico y K-Means"
   ]
  },
  {
   "cell_type": "markdown",
   "id": "22c4e31a",
   "metadata": {},
   "source": [
    "## Tabla de Contenidos\n",
    "1. Introducción\n",
    "2. Selección y Comprensión de Datos\n",
    "3. Preprocesamiento de Datos\n",
    "4. Exploración de Datos\n",
    "5. Modelado: Clustering Jerárquico\n",
    "6. Modelado: K-Means\n",
    "7. Evaluación y Comparación\n",
    "8. Sensibilidad de Parámetros y Métricas Adicionales\n",
    "9. Conclusiones y Recomendaciones"
   ]
  },
  {
   "cell_type": "markdown",
   "id": "d091fc63",
   "metadata": {},
   "source": [
    "## 1. Introducción\n",
    "En esta práctica aplicamos el proceso KDD para analizar el desempeño académico de un conjunto de estudiantes. Los objetivos principales son:\n",
    "- depurar y transformar los datos para garantizar su calidad;\n",
    "- explorar las variables y su comportamiento;\n",
    "- generar agrupaciones con algoritmos de clustering jerárquico y K-Means;\n",
    "- evaluar y comparar ambos enfoques mediante métricas cuantitativas y visualizaciones;\n",
    "- interpretar los clusters para proponer recomendaciones accionables."
   ]
  },
  {
   "cell_type": "markdown",
   "id": "a1453617",
   "metadata": {},
   "source": [
    "## 2. Selección y Comprensión de Datos\n",
    "Trabajamos con el archivo `notas-Estudiantes.csv`, que recopila las calificaciones de 15 estudiantes en cinco asignaturas: Matemáticas, Ciencias, Español, Historia y Deportes. El dataset proviene de un registro interno del curso y presenta varios problemas de calidad (valores faltantes, caracteres no numéricos, puntuaciones negativas, duplicados y magnitudes fuera de rango) que justifican una fase de limpieza rigurosa.\n",
    "A continuación se describen las variables incluidas:\n",
    "- **Nombre:** identificador único del estudiante.\n",
    "- **Matemáticas, Ciencias, Español, Historia, Deportes:** calificaciones numéricas esperadas en la escala de 0 a 10."
   ]
  },
  {
   "cell_type": "code",
   "execution_count": null,
   "id": "4044e778",
   "metadata": {},
   "outputs": [],
   "source": [
    "# Librerías principales para el proceso KDD y los algoritmos de clustering\n",
    "from pathlib import Path\n",
    "import numpy as np\n",
    "import pandas as pd\n",
    "import seaborn as sns\n",
    "import matplotlib.pyplot as plt\n",
    "from sklearn.preprocessing import StandardScaler\n",
    "from sklearn.decomposition import PCA\n",
    "from sklearn.cluster import AgglomerativeClustering, KMeans\n",
    "from sklearn.metrics import silhouette_score, davies_bouldin_score, calinski_harabasz_score\n",
    "from scipy.cluster.hierarchy import dendrogram, linkage, fcluster\n",
    "from sklearn.manifold import TSNE\n",
    "sns.set_theme(style=\"whitegrid\", context=\"notebook\")\n",
    "%matplotlib inline"
   ]
  }
 ],
 "metadata": {
  "language_info": {
   "name": "python"
  }
 },
 "nbformat": 4,
 "nbformat_minor": 5
}
